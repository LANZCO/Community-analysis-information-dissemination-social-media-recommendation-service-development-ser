{
 "cells": [
  {
   "cell_type": "markdown",
   "id": "9b4caa54",
   "metadata": {},
   "source": [
    "Q1\n",
    "各个⼩题的具体实现在⽂件 CSE598 Project 3-AILIU CHENG.ipynb 的代码中。 所有图的节点计数从 0 开始，⽼师所给出的示例是从 1 开始，所以输出结果，⽐如⽼师的输出样例是 2, 3, 4 , 那么我的结果输出则为 1, 2, 3 。使⽤命令进⾏安装pip install ，分别安装networkx、 pandas、numpy（或者scipy）、matplotlib等适用的库。\n"
   ]
  },
  {
   "cell_type": "code",
   "execution_count": 13,
   "id": "4b735496",
   "metadata": {},
   "outputs": [
    {
     "name": "stdout",
     "output_type": "stream",
     "text": [
      "Requirement already satisfied: networkx in c:\\123\\lib\\site-packages (2.6.3)\n",
      "Requirement already satisfied: pandas in c:\\123\\lib\\site-packages (1.3.4)\n",
      "Requirement already satisfied: numpy in c:\\123\\lib\\site-packages (1.20.3)\n",
      "Requirement already satisfied: matplotlib in c:\\123\\lib\\site-packages (3.4.3)\n",
      "Requirement already satisfied: scipy in c:\\123\\lib\\site-packages (1.7.1)\n",
      "Requirement already satisfied: pytz>=2017.3 in c:\\123\\lib\\site-packages (from pandas) (2021.3)\n",
      "Requirement already satisfied: python-dateutil>=2.7.3 in c:\\123\\lib\\site-packages (from pandas) (2.8.2)\n",
      "Requirement already satisfied: kiwisolver>=1.0.1 in c:\\123\\lib\\site-packages (from matplotlib) (1.3.1)\n",
      "Requirement already satisfied: pyparsing>=2.2.1 in c:\\123\\lib\\site-packages (from matplotlib) (3.0.4)\n",
      "Requirement already satisfied: pillow>=6.2.0 in c:\\123\\lib\\site-packages (from matplotlib) (8.4.0)\n",
      "Requirement already satisfied: cycler>=0.10 in c:\\123\\lib\\site-packages (from matplotlib) (0.10.0)\n",
      "Requirement already satisfied: six in c:\\123\\lib\\site-packages (from cycler>=0.10->matplotlib) (1.16.0)\n",
      "Note: you may need to restart the kernel to use updated packages.\n"
     ]
    }
   ],
   "source": [
    "pip install networkx pandas numpy matplotlib scipy"
   ]
  },
  {
   "cell_type": "code",
   "execution_count": 14,
   "id": "ccc944e6",
   "metadata": {},
   "outputs": [],
   "source": [
    "import operator\n",
    "from queue import Queue\n",
    "import networkx as nx\n",
    "import pandas as pd\n",
    "import numpy as np\n",
    "from numpy import dot\n",
    "from numpy.linalg import norm\n",
    "\n",
    "import matplotlib.pyplot as plt\n",
    "import scipy.integrate as spi\n",
    "\n",
    "from networkx.algorithms.community import k_clique_communities\n",
    "from networkx.algorithms.community import greedy_modularity_communities\n",
    "from networkx.algorithms.community.centrality import girvan_newman\n",
    "import warnings\n",
    "\n",
    "%matplotlib inline"
   ]
  },
  {
   "cell_type": "code",
   "execution_count": 15,
   "id": "42d1b2b8",
   "metadata": {},
   "outputs": [],
   "source": [
    "warnings.filterwarnings(action='ignore')"
   ]
  },
  {
   "cell_type": "code",
   "execution_count": 16,
   "id": "e8c00ca1",
   "metadata": {},
   "outputs": [],
   "source": [
    "# read the csv file, return a matrix\n",
    "def read_csv(file_name):\n",
    "    df_rates = pd.read_csv(file_name, index_col=[0])\n",
    "    df = df_rates.values.tolist()\n",
    "    \n",
    "    return np.array(df)"
   ]
  },
  {
   "cell_type": "code",
   "execution_count": 17,
   "id": "48e5a3b1",
   "metadata": {},
   "outputs": [],
   "source": [
    "# save matrix to csv file\n",
    "def save_m_csv(matrix, res_file_name):\n",
    "    np.savetxt(res_file_name, matrix, delimiter=',')"
   ]
  },
  {
   "cell_type": "markdown",
   "id": "3f8200f3",
   "metadata": {},
   "source": [
    "Q1.1 使用暴力法找到输入图矩阵中的最大团。以 CSV 文件格式的图形的相邻矩阵作为输入，所有节点作为字符串输出。"
   ]
  },
  {
   "cell_type": "code",
   "execution_count": 5,
   "id": "d3b94e54",
   "metadata": {},
   "outputs": [
    {
     "ename": "FileNotFoundError",
     "evalue": "[Errno 2] No such file or directory: 'csvs/1.1.csv'",
     "output_type": "error",
     "traceback": [
      "\u001b[1;31m---------------------------------------------------------------------------\u001b[0m",
      "\u001b[1;31mFileNotFoundError\u001b[0m                         Traceback (most recent call last)",
      "\u001b[1;32mC:\\Users\\PATRIC~1\\AppData\\Local\\Temp/ipykernel_18732/1689423726.py\u001b[0m in \u001b[0;36m<module>\u001b[1;34m\u001b[0m\n\u001b[0;32m      1\u001b[0m \u001b[1;31m# read csv file to matrix\u001b[0m\u001b[1;33m\u001b[0m\u001b[1;33m\u001b[0m\u001b[0m\n\u001b[1;32m----> 2\u001b[1;33m \u001b[0mmatrix_1_1\u001b[0m \u001b[1;33m=\u001b[0m \u001b[0mread_csv\u001b[0m\u001b[1;33m(\u001b[0m\u001b[0mfile_name\u001b[0m\u001b[1;33m=\u001b[0m\u001b[1;34m'csvs/1.1.csv'\u001b[0m\u001b[1;33m)\u001b[0m\u001b[1;33m\u001b[0m\u001b[1;33m\u001b[0m\u001b[0m\n\u001b[0m\u001b[0;32m      3\u001b[0m \u001b[1;33m\u001b[0m\u001b[0m\n\u001b[0;32m      4\u001b[0m \u001b[1;31m# create the graph\u001b[0m\u001b[1;33m\u001b[0m\u001b[1;33m\u001b[0m\u001b[0m\n\u001b[0;32m      5\u001b[0m \u001b[0mg_1_1\u001b[0m \u001b[1;33m=\u001b[0m \u001b[0mnx\u001b[0m\u001b[1;33m.\u001b[0m\u001b[0mfrom_numpy_matrix\u001b[0m\u001b[1;33m(\u001b[0m\u001b[0mmatrix_1_1\u001b[0m\u001b[1;33m)\u001b[0m\u001b[1;33m\u001b[0m\u001b[1;33m\u001b[0m\u001b[0m\n",
      "\u001b[1;32mC:\\Users\\PATRIC~1\\AppData\\Local\\Temp/ipykernel_18732/3050683848.py\u001b[0m in \u001b[0;36mread_csv\u001b[1;34m(file_name)\u001b[0m\n\u001b[0;32m      1\u001b[0m \u001b[1;31m# read the csv file, return a matrix\u001b[0m\u001b[1;33m\u001b[0m\u001b[1;33m\u001b[0m\u001b[0m\n\u001b[0;32m      2\u001b[0m \u001b[1;32mdef\u001b[0m \u001b[0mread_csv\u001b[0m\u001b[1;33m(\u001b[0m\u001b[0mfile_name\u001b[0m\u001b[1;33m)\u001b[0m\u001b[1;33m:\u001b[0m\u001b[1;33m\u001b[0m\u001b[1;33m\u001b[0m\u001b[0m\n\u001b[1;32m----> 3\u001b[1;33m     \u001b[0mdf_rates\u001b[0m \u001b[1;33m=\u001b[0m \u001b[0mpd\u001b[0m\u001b[1;33m.\u001b[0m\u001b[0mread_csv\u001b[0m\u001b[1;33m(\u001b[0m\u001b[0mfile_name\u001b[0m\u001b[1;33m,\u001b[0m \u001b[0mindex_col\u001b[0m\u001b[1;33m=\u001b[0m\u001b[1;33m[\u001b[0m\u001b[1;36m0\u001b[0m\u001b[1;33m]\u001b[0m\u001b[1;33m)\u001b[0m\u001b[1;33m\u001b[0m\u001b[1;33m\u001b[0m\u001b[0m\n\u001b[0m\u001b[0;32m      4\u001b[0m     \u001b[0mdf\u001b[0m \u001b[1;33m=\u001b[0m \u001b[0mdf_rates\u001b[0m\u001b[1;33m.\u001b[0m\u001b[0mvalues\u001b[0m\u001b[1;33m.\u001b[0m\u001b[0mtolist\u001b[0m\u001b[1;33m(\u001b[0m\u001b[1;33m)\u001b[0m\u001b[1;33m\u001b[0m\u001b[1;33m\u001b[0m\u001b[0m\n\u001b[0;32m      5\u001b[0m \u001b[1;33m\u001b[0m\u001b[0m\n",
      "\u001b[1;32mC:\\123\\lib\\site-packages\\pandas\\util\\_decorators.py\u001b[0m in \u001b[0;36mwrapper\u001b[1;34m(*args, **kwargs)\u001b[0m\n\u001b[0;32m    309\u001b[0m                     \u001b[0mstacklevel\u001b[0m\u001b[1;33m=\u001b[0m\u001b[0mstacklevel\u001b[0m\u001b[1;33m,\u001b[0m\u001b[1;33m\u001b[0m\u001b[1;33m\u001b[0m\u001b[0m\n\u001b[0;32m    310\u001b[0m                 )\n\u001b[1;32m--> 311\u001b[1;33m             \u001b[1;32mreturn\u001b[0m \u001b[0mfunc\u001b[0m\u001b[1;33m(\u001b[0m\u001b[1;33m*\u001b[0m\u001b[0margs\u001b[0m\u001b[1;33m,\u001b[0m \u001b[1;33m**\u001b[0m\u001b[0mkwargs\u001b[0m\u001b[1;33m)\u001b[0m\u001b[1;33m\u001b[0m\u001b[1;33m\u001b[0m\u001b[0m\n\u001b[0m\u001b[0;32m    312\u001b[0m \u001b[1;33m\u001b[0m\u001b[0m\n\u001b[0;32m    313\u001b[0m         \u001b[1;32mreturn\u001b[0m \u001b[0mwrapper\u001b[0m\u001b[1;33m\u001b[0m\u001b[1;33m\u001b[0m\u001b[0m\n",
      "\u001b[1;32mC:\\123\\lib\\site-packages\\pandas\\io\\parsers\\readers.py\u001b[0m in \u001b[0;36mread_csv\u001b[1;34m(filepath_or_buffer, sep, delimiter, header, names, index_col, usecols, squeeze, prefix, mangle_dupe_cols, dtype, engine, converters, true_values, false_values, skipinitialspace, skiprows, skipfooter, nrows, na_values, keep_default_na, na_filter, verbose, skip_blank_lines, parse_dates, infer_datetime_format, keep_date_col, date_parser, dayfirst, cache_dates, iterator, chunksize, compression, thousands, decimal, lineterminator, quotechar, quoting, doublequote, escapechar, comment, encoding, encoding_errors, dialect, error_bad_lines, warn_bad_lines, on_bad_lines, delim_whitespace, low_memory, memory_map, float_precision, storage_options)\u001b[0m\n\u001b[0;32m    584\u001b[0m     \u001b[0mkwds\u001b[0m\u001b[1;33m.\u001b[0m\u001b[0mupdate\u001b[0m\u001b[1;33m(\u001b[0m\u001b[0mkwds_defaults\u001b[0m\u001b[1;33m)\u001b[0m\u001b[1;33m\u001b[0m\u001b[1;33m\u001b[0m\u001b[0m\n\u001b[0;32m    585\u001b[0m \u001b[1;33m\u001b[0m\u001b[0m\n\u001b[1;32m--> 586\u001b[1;33m     \u001b[1;32mreturn\u001b[0m \u001b[0m_read\u001b[0m\u001b[1;33m(\u001b[0m\u001b[0mfilepath_or_buffer\u001b[0m\u001b[1;33m,\u001b[0m \u001b[0mkwds\u001b[0m\u001b[1;33m)\u001b[0m\u001b[1;33m\u001b[0m\u001b[1;33m\u001b[0m\u001b[0m\n\u001b[0m\u001b[0;32m    587\u001b[0m \u001b[1;33m\u001b[0m\u001b[0m\n\u001b[0;32m    588\u001b[0m \u001b[1;33m\u001b[0m\u001b[0m\n",
      "\u001b[1;32mC:\\123\\lib\\site-packages\\pandas\\io\\parsers\\readers.py\u001b[0m in \u001b[0;36m_read\u001b[1;34m(filepath_or_buffer, kwds)\u001b[0m\n\u001b[0;32m    480\u001b[0m \u001b[1;33m\u001b[0m\u001b[0m\n\u001b[0;32m    481\u001b[0m     \u001b[1;31m# Create the parser.\u001b[0m\u001b[1;33m\u001b[0m\u001b[1;33m\u001b[0m\u001b[0m\n\u001b[1;32m--> 482\u001b[1;33m     \u001b[0mparser\u001b[0m \u001b[1;33m=\u001b[0m \u001b[0mTextFileReader\u001b[0m\u001b[1;33m(\u001b[0m\u001b[0mfilepath_or_buffer\u001b[0m\u001b[1;33m,\u001b[0m \u001b[1;33m**\u001b[0m\u001b[0mkwds\u001b[0m\u001b[1;33m)\u001b[0m\u001b[1;33m\u001b[0m\u001b[1;33m\u001b[0m\u001b[0m\n\u001b[0m\u001b[0;32m    483\u001b[0m \u001b[1;33m\u001b[0m\u001b[0m\n\u001b[0;32m    484\u001b[0m     \u001b[1;32mif\u001b[0m \u001b[0mchunksize\u001b[0m \u001b[1;32mor\u001b[0m \u001b[0miterator\u001b[0m\u001b[1;33m:\u001b[0m\u001b[1;33m\u001b[0m\u001b[1;33m\u001b[0m\u001b[0m\n",
      "\u001b[1;32mC:\\123\\lib\\site-packages\\pandas\\io\\parsers\\readers.py\u001b[0m in \u001b[0;36m__init__\u001b[1;34m(self, f, engine, **kwds)\u001b[0m\n\u001b[0;32m    809\u001b[0m             \u001b[0mself\u001b[0m\u001b[1;33m.\u001b[0m\u001b[0moptions\u001b[0m\u001b[1;33m[\u001b[0m\u001b[1;34m\"has_index_names\"\u001b[0m\u001b[1;33m]\u001b[0m \u001b[1;33m=\u001b[0m \u001b[0mkwds\u001b[0m\u001b[1;33m[\u001b[0m\u001b[1;34m\"has_index_names\"\u001b[0m\u001b[1;33m]\u001b[0m\u001b[1;33m\u001b[0m\u001b[1;33m\u001b[0m\u001b[0m\n\u001b[0;32m    810\u001b[0m \u001b[1;33m\u001b[0m\u001b[0m\n\u001b[1;32m--> 811\u001b[1;33m         \u001b[0mself\u001b[0m\u001b[1;33m.\u001b[0m\u001b[0m_engine\u001b[0m \u001b[1;33m=\u001b[0m \u001b[0mself\u001b[0m\u001b[1;33m.\u001b[0m\u001b[0m_make_engine\u001b[0m\u001b[1;33m(\u001b[0m\u001b[0mself\u001b[0m\u001b[1;33m.\u001b[0m\u001b[0mengine\u001b[0m\u001b[1;33m)\u001b[0m\u001b[1;33m\u001b[0m\u001b[1;33m\u001b[0m\u001b[0m\n\u001b[0m\u001b[0;32m    812\u001b[0m \u001b[1;33m\u001b[0m\u001b[0m\n\u001b[0;32m    813\u001b[0m     \u001b[1;32mdef\u001b[0m \u001b[0mclose\u001b[0m\u001b[1;33m(\u001b[0m\u001b[0mself\u001b[0m\u001b[1;33m)\u001b[0m\u001b[1;33m:\u001b[0m\u001b[1;33m\u001b[0m\u001b[1;33m\u001b[0m\u001b[0m\n",
      "\u001b[1;32mC:\\123\\lib\\site-packages\\pandas\\io\\parsers\\readers.py\u001b[0m in \u001b[0;36m_make_engine\u001b[1;34m(self, engine)\u001b[0m\n\u001b[0;32m   1038\u001b[0m             )\n\u001b[0;32m   1039\u001b[0m         \u001b[1;31m# error: Too many arguments for \"ParserBase\"\u001b[0m\u001b[1;33m\u001b[0m\u001b[1;33m\u001b[0m\u001b[0m\n\u001b[1;32m-> 1040\u001b[1;33m         \u001b[1;32mreturn\u001b[0m \u001b[0mmapping\u001b[0m\u001b[1;33m[\u001b[0m\u001b[0mengine\u001b[0m\u001b[1;33m]\u001b[0m\u001b[1;33m(\u001b[0m\u001b[0mself\u001b[0m\u001b[1;33m.\u001b[0m\u001b[0mf\u001b[0m\u001b[1;33m,\u001b[0m \u001b[1;33m**\u001b[0m\u001b[0mself\u001b[0m\u001b[1;33m.\u001b[0m\u001b[0moptions\u001b[0m\u001b[1;33m)\u001b[0m  \u001b[1;31m# type: ignore[call-arg]\u001b[0m\u001b[1;33m\u001b[0m\u001b[1;33m\u001b[0m\u001b[0m\n\u001b[0m\u001b[0;32m   1041\u001b[0m \u001b[1;33m\u001b[0m\u001b[0m\n\u001b[0;32m   1042\u001b[0m     \u001b[1;32mdef\u001b[0m \u001b[0m_failover_to_python\u001b[0m\u001b[1;33m(\u001b[0m\u001b[0mself\u001b[0m\u001b[1;33m)\u001b[0m\u001b[1;33m:\u001b[0m\u001b[1;33m\u001b[0m\u001b[1;33m\u001b[0m\u001b[0m\n",
      "\u001b[1;32mC:\\123\\lib\\site-packages\\pandas\\io\\parsers\\c_parser_wrapper.py\u001b[0m in \u001b[0;36m__init__\u001b[1;34m(self, src, **kwds)\u001b[0m\n\u001b[0;32m     49\u001b[0m \u001b[1;33m\u001b[0m\u001b[0m\n\u001b[0;32m     50\u001b[0m         \u001b[1;31m# open handles\u001b[0m\u001b[1;33m\u001b[0m\u001b[1;33m\u001b[0m\u001b[0m\n\u001b[1;32m---> 51\u001b[1;33m         \u001b[0mself\u001b[0m\u001b[1;33m.\u001b[0m\u001b[0m_open_handles\u001b[0m\u001b[1;33m(\u001b[0m\u001b[0msrc\u001b[0m\u001b[1;33m,\u001b[0m \u001b[0mkwds\u001b[0m\u001b[1;33m)\u001b[0m\u001b[1;33m\u001b[0m\u001b[1;33m\u001b[0m\u001b[0m\n\u001b[0m\u001b[0;32m     52\u001b[0m         \u001b[1;32massert\u001b[0m \u001b[0mself\u001b[0m\u001b[1;33m.\u001b[0m\u001b[0mhandles\u001b[0m \u001b[1;32mis\u001b[0m \u001b[1;32mnot\u001b[0m \u001b[1;32mNone\u001b[0m\u001b[1;33m\u001b[0m\u001b[1;33m\u001b[0m\u001b[0m\n\u001b[0;32m     53\u001b[0m \u001b[1;33m\u001b[0m\u001b[0m\n",
      "\u001b[1;32mC:\\123\\lib\\site-packages\\pandas\\io\\parsers\\base_parser.py\u001b[0m in \u001b[0;36m_open_handles\u001b[1;34m(self, src, kwds)\u001b[0m\n\u001b[0;32m    220\u001b[0m         \u001b[0mLet\u001b[0m \u001b[0mthe\u001b[0m \u001b[0mreaders\u001b[0m \u001b[0mopen\u001b[0m \u001b[0mIOHandles\u001b[0m \u001b[0mafter\u001b[0m \u001b[0mthey\u001b[0m \u001b[0mare\u001b[0m \u001b[0mdone\u001b[0m \u001b[1;32mwith\u001b[0m \u001b[0mtheir\u001b[0m \u001b[0mpotential\u001b[0m \u001b[0mraises\u001b[0m\u001b[1;33m.\u001b[0m\u001b[1;33m\u001b[0m\u001b[1;33m\u001b[0m\u001b[0m\n\u001b[0;32m    221\u001b[0m         \"\"\"\n\u001b[1;32m--> 222\u001b[1;33m         self.handles = get_handle(\n\u001b[0m\u001b[0;32m    223\u001b[0m             \u001b[0msrc\u001b[0m\u001b[1;33m,\u001b[0m\u001b[1;33m\u001b[0m\u001b[1;33m\u001b[0m\u001b[0m\n\u001b[0;32m    224\u001b[0m             \u001b[1;34m\"r\"\u001b[0m\u001b[1;33m,\u001b[0m\u001b[1;33m\u001b[0m\u001b[1;33m\u001b[0m\u001b[0m\n",
      "\u001b[1;32mC:\\123\\lib\\site-packages\\pandas\\io\\common.py\u001b[0m in \u001b[0;36mget_handle\u001b[1;34m(path_or_buf, mode, encoding, compression, memory_map, is_text, errors, storage_options)\u001b[0m\n\u001b[0;32m    700\u001b[0m         \u001b[1;32mif\u001b[0m \u001b[0mioargs\u001b[0m\u001b[1;33m.\u001b[0m\u001b[0mencoding\u001b[0m \u001b[1;32mand\u001b[0m \u001b[1;34m\"b\"\u001b[0m \u001b[1;32mnot\u001b[0m \u001b[1;32min\u001b[0m \u001b[0mioargs\u001b[0m\u001b[1;33m.\u001b[0m\u001b[0mmode\u001b[0m\u001b[1;33m:\u001b[0m\u001b[1;33m\u001b[0m\u001b[1;33m\u001b[0m\u001b[0m\n\u001b[0;32m    701\u001b[0m             \u001b[1;31m# Encoding\u001b[0m\u001b[1;33m\u001b[0m\u001b[1;33m\u001b[0m\u001b[0m\n\u001b[1;32m--> 702\u001b[1;33m             handle = open(\n\u001b[0m\u001b[0;32m    703\u001b[0m                 \u001b[0mhandle\u001b[0m\u001b[1;33m,\u001b[0m\u001b[1;33m\u001b[0m\u001b[1;33m\u001b[0m\u001b[0m\n\u001b[0;32m    704\u001b[0m                 \u001b[0mioargs\u001b[0m\u001b[1;33m.\u001b[0m\u001b[0mmode\u001b[0m\u001b[1;33m,\u001b[0m\u001b[1;33m\u001b[0m\u001b[1;33m\u001b[0m\u001b[0m\n",
      "\u001b[1;31mFileNotFoundError\u001b[0m: [Errno 2] No such file or directory: 'csvs/1.1.csv'"
     ]
    }
   ],
   "source": [
    "# read csv file to matrix\n",
    "matrix_1_1 = read_csv(file_name='csvs/1.1.csv')\n",
    "\n",
    "# create the graph\n",
    "g_1_1 = nx.from_numpy_matrix(matrix_1_1)"
   ]
  },
  {
   "cell_type": "code",
   "execution_count": 6,
   "id": "f886a578",
   "metadata": {
    "scrolled": false
   },
   "outputs": [
    {
     "data": {
      "image/png": "[encoded data removed]",
      "text/plain": [
       "<Figure size 432x288 with 1 Axes>"
      ]
     },
     "metadata": {},
     "output_type": "display_data"
    }
   ],
   "source": [
    "# make the graph\n",
    "nx.draw(g_1_1, with_labels=True, node_size=1000, alpha=0.3, arrows=False)\n",
    "plt.title(\"Graph 1.1\")\n",
    "plt.show()"
   ]
  },
  {
   "cell_type": "code",
   "execution_count": 7,
   "id": "1157e9df",
   "metadata": {},
   "outputs": [],
   "source": [
    "# 返回图中的最大团，返回形式为节点的编号组成的字符串，当图中有多个最大团时，返回其中一个最大团即可。\n",
    "def get_max_cliques(node, matrix):\n",
    "    clique = {node}\n",
    "    for i in range(len(matrix)):\n",
    "        flag = True\n",
    "        for c in clique:\n",
    "            if matrix[i][c] == 0:\n",
    "                flag = False\n",
    "                break\n",
    "        if flag:\n",
    "            clique.add(i)\n",
    "\n",
    "    return clique"
   ]
  },
  {
   "cell_type": "code",
   "execution_count": 8,
   "id": "a2d0a0ad",
   "metadata": {},
   "outputs": [
    {
     "data": {
      "text/plain": [
       "[{0, 1}, {1, 2, 3}, {3, 4}]"
      ]
     },
     "execution_count": 8,
     "metadata": {},
     "output_type": "execute_result"
    }
   ],
   "source": [
    "max_cliques = []\n",
    "# read csv file to matrix\n",
    "matrix = read_csv(file_name='csvs/1.1.csv')\n",
    "\n",
    "for i in range(5):\n",
    "    c = get_max_cliques(i, matrix)\n",
    "    if max_cliques.count(c) == 0:\n",
    "        max_cliques.append(c)\n",
    "\n",
    "max_cliques"
   ]
  },
  {
   "cell_type": "code",
   "execution_count": 9,
   "id": "8d8dd918",
   "metadata": {},
   "outputs": [
    {
     "data": {
      "text/plain": [
       "{1, 2, 3}"
      ]
     },
     "execution_count": 9,
     "metadata": {},
     "output_type": "execute_result"
    }
   ],
   "source": [
    "# the answer for 1.1\n",
    "max(max_cliques, key=len, default='')"
   ]
  },
  {
   "cell_type": "markdown",
   "id": "db4f3b68",
   "metadata": {},
   "source": [
    "**1.2   团过滤算法 CPM。输入为一个图的邻接矩阵（CSV 文件），输入图的节点数小于 10，设 k=3，返回所有团过滤算法找到的子社区（节点的编号组成的字符串）。  "
   ]
  },
  {
   "cell_type": "code",
   "execution_count": 10,
   "id": "60332f58",
   "metadata": {},
   "outputs": [
    {
     "data": {
      "image/png": "[encoded data removed]",
      "text/plain": [
       "<Figure size 432x288 with 1 Axes>"
      ]
     },
     "metadata": {},
     "output_type": "display_data"
    }
   ],
   "source": [
    "# 读取 csv 文件到矩阵\n",
    "matrix_1_2 = read_csv(file_name='csvs/1.2.csv')\n",
    "\n",
    "# 创建图表\n",
    "g_1_2 = nx.from_numpy_matrix(matrix_1_2)\n",
    "\n",
    "# 制作图表\n",
    "nx.draw(g_1_2, with_labels=True, node_size=1000, alpha=0.3, arrows=False)\n",
    "plt.title(\"Graph 1.2\")\n",
    "plt.show()"
   ]
  },
  {
   "cell_type": "code",
   "execution_count": 11,
   "id": "e6c568ec",
   "metadata": {},
   "outputs": [],
   "source": [
    "# CPM算法\n",
    "# 输入一个图的邻接矩阵，返回所有子社区\n",
    "def solution_1_2(csv_file_name, k):\n",
    "    # 读取 csv 文件到矩阵\n",
    "    matrix_1_2 = read_csv(file_name=csv_file_name)\n",
    "    \n",
    "    # 创建图表\n",
    "    g_1_2 = nx.from_numpy_matrix(matrix_1_2)\n",
    "    \n",
    "    # 子社区\n",
    "    c = list(k_clique_communities(g_1_2, k))\n",
    "    return c"
   ]
  },
  {
   "cell_type": "code",
   "execution_count": 12,
   "id": "227f0b9b",
   "metadata": {},
   "outputs": [
    {
     "data": {
      "text/plain": [
       "[frozenset({0, 1, 2}), frozenset({2, 3, 4, 5, 6, 7}), frozenset({7, 8, 9})]"
      ]
     },
     "execution_count": 12,
     "metadata": {},
     "output_type": "execute_result"
    }
   ],
   "source": [
    "# the answer for 1.2\n",
    "solution_1_2(csv_file_name='csvs/1.2.csv', k=3)"
   ]
  },
  {
   "cell_type": "markdown",
   "id": "a20d2b82",
   "metadata": {},
   "source": [
    "**1.3   节点相似性。 输入为一个图的邻接矩阵（CSV 文件），输入图的节点数小于 10，将第一 个节点和第二个节点的杰卡德相似性以 float（浮点数）的形式返回（矩阵中的前两项）。\n",
    "\n",
    "**Jaccard similarity algorithm**\n",
    "\n",
    "$$\n",
    "\\Large \\dfrac{\\left| F\\left( u\\right) \\cap F\\left( v\\right) \\right| }{\\left| F\\left( u\\right) \\cup F\\left( v\\right) \\right| }\n",
    "$$"
   ]
  },
  {
   "cell_type": "code",
   "execution_count": 13,
   "id": "6e1bac14",
   "metadata": {},
   "outputs": [
    {
     "data": {
      "image/png": "[encoded data removed]",
      "text/plain": [
       "<Figure size 432x288 with 1 Axes>"
      ]
     },
     "metadata": {},
     "output_type": "display_data"
    }
   ],
   "source": [
    "# 读取 csv 文件到矩阵\n",
    "matrix_1_3 = read_csv(file_name='csvs/1.3.csv')\n",
    "\n",
    "# 创建图表\n",
    "g_1_3 = nx.from_numpy_matrix(matrix_1_3)\n",
    "\n",
    "# 制作图表\n",
    "nx.draw(g_1_3, with_labels=True, node_size=1000, alpha=0.3, arrows=False)\n",
    "plt.title(\"Graph 1.3\")\n",
    "plt.show()"
   ]
  },
  {
   "cell_type": "code",
   "execution_count": 14,
   "id": "130b9daa",
   "metadata": {},
   "outputs": [],
   "source": [
    "def solution_1_3(csv_file_name):\n",
    "    # 读取 csv 文件到矩阵\n",
    "    matrix_1_3 = read_csv(file_name=csv_file_name)\n",
    "\n",
    "    data = matrix_1_3[0] + matrix_1_3[1]\n",
    "\n",
    "    # 计算联合集\n",
    "    union = np.count_nonzero(data == 2)\n",
    "    # 计算交集\n",
    "    intersection = np.count_nonzero(data == 1) + union\n",
    "\n",
    "    if matrix_1_3[0][1] == 1 and matrix_1_3[1][0] == 1:\n",
    "        intersection -= 2\n",
    "\n",
    "    return union/intersection"
   ]
  },
  {
   "cell_type": "code",
   "execution_count": 15,
   "id": "c455bcf8",
   "metadata": {},
   "outputs": [
    {
     "data": {
      "text/plain": [
       "0.5"
      ]
     },
     "execution_count": 15,
     "metadata": {},
     "output_type": "execute_result"
    }
   ],
   "source": [
    "# the answer for 1.3\n",
    "solution_1_3(csv_file_name='csvs/1.3.csv')"
   ]
  },
  {
   "cell_type": "markdown",
   "id": "7759fc18",
   "metadata": {},
   "source": [
    "**1.4 Modularity**\n",
    "\n",
    "1.4   模块化社区。输入为一个图的邻接矩阵（CSV 文件），输入图的节点数小于 10，返回模块度矩阵（CSV 文件）"
   ]
  },
  {
   "cell_type": "code",
   "execution_count": 16,
   "id": "8f4462ec",
   "metadata": {},
   "outputs": [
    {
     "data": {
      "image/png": "[encoded data removed]",
      "text/plain": [
       "<Figure size 432x288 with 1 Axes>"
      ]
     },
     "metadata": {},
     "output_type": "display_data"
    }
   ],
   "source": [
    "# 读取 csv 文件到矩阵\n",
    "matrix_1_4 = read_csv(file_name='csvs/1.4.csv')\n",
    "\n",
    "    # 创建图表\n",
    "g_1_4 = nx.from_numpy_matrix(matrix_1_4)\n",
    "\n",
    "# 制作图表\n",
    "nx.draw(g_1_4, with_labels=True, node_size=1000, alpha=0.3, arrows=False)\n",
    "plt.title(\"Graph 1.4\")\n",
    "plt.show()"
   ]
  },
  {
   "cell_type": "code",
   "execution_count": 17,
   "id": "feed39f8",
   "metadata": {},
   "outputs": [],
   "source": [
    "def solution_1_4(csv_file_name, res_file_name):\n",
    "    matrix_1_4 = read_csv(file_name=csv_file_name)\n",
    "    \n",
    "# 创建图表\n",
    "    g = nx.from_numpy_matrix(matrix_1_4)\n",
    "    \n",
    "# 图的模块化矩阵\n",
    "    m_matrix = nx.modularity_matrix(g)\n",
    "    print('Result matrix:\\n', m_matrix)\n",
    "# 将图的模块化矩阵保存到 csv 文件\n",
    "    save_m_csv(matrix=m_matrix, res_file_name=res_file_name)"
   ]
  },
  {
   "cell_type": "code",
   "execution_count": 18,
   "id": "5414d9c0",
   "metadata": {},
   "outputs": [
    {
     "name": "stdout",
     "output_type": "stream",
     "text": [
      "Result matrix:\n",
      " [[-0.32142857  0.78571429  0.67857143  0.57142857 -0.42857143 -0.42857143\n",
      "  -0.42857143 -0.32142857 -0.10714286]\n",
      " [ 0.78571429 -0.14285714  0.78571429 -0.28571429 -0.28571429 -0.28571429\n",
      "  -0.28571429 -0.21428571 -0.07142857]\n",
      " [ 0.67857143  0.78571429 -0.32142857  0.57142857 -0.42857143 -0.42857143\n",
      "  -0.42857143 -0.32142857 -0.10714286]\n",
      " [ 0.57142857 -0.28571429  0.57142857 -0.57142857  0.42857143  0.42857143\n",
      "  -0.57142857 -0.42857143 -0.14285714]\n",
      " [-0.42857143 -0.28571429 -0.42857143  0.42857143 -0.57142857  0.42857143\n",
      "   0.42857143  0.57142857 -0.14285714]\n",
      " [-0.42857143 -0.28571429 -0.42857143  0.42857143  0.42857143 -0.57142857\n",
      "   0.42857143  0.57142857 -0.14285714]\n",
      " [-0.42857143 -0.28571429 -0.42857143 -0.57142857  0.42857143  0.42857143\n",
      "  -0.57142857  0.57142857  0.85714286]\n",
      " [-0.32142857 -0.21428571 -0.32142857 -0.42857143  0.57142857  0.57142857\n",
      "   0.57142857 -0.32142857 -0.10714286]\n",
      " [-0.10714286 -0.07142857 -0.10714286 -0.14285714 -0.14285714 -0.14285714\n",
      "   0.85714286 -0.10714286 -0.03571429]]\n"
     ]
    }
   ],
   "source": [
    "# the answer for 1.4\n",
    "# result file saved as `1_4_res.csv`\n",
    "solution_1_4(csv_file_name='csvs/1.4.csv', res_file_name='1_4_res.csv')"
   ]
  },
  {
   "cell_type": "markdown",
   "id": "8b3112ce",
   "metadata": {},
   "source": [
    "1.5 社区密度。输入为一个图的邻接矩阵（CSV 文件），输入图的节点数小于 10，返回社区的密度 γ （float 浮点数）"
   ]
  },
  {
   "cell_type": "code",
   "execution_count": 19,
   "id": "fe2b0232",
   "metadata": {},
   "outputs": [
    {
     "data": {
      "image/png": "[encoded data removed]",
      "text/plain": [
       "<Figure size 432x288 with 1 Axes>"
      ]
     },
     "metadata": {},
     "output_type": "display_data"
    }
   ],
   "source": [
    "# 创建矩阵\n",
    "matrix_1_5 = read_csv(file_name='csvs/1.5.csv')\n",
    "\n",
    "# 创建图表\n",
    "g_1_5 = nx.from_numpy_matrix(matrix_1_5)\n",
    "\n",
    "# 制作图表\n",
    "nx.draw(g_1_5, with_labels=True, node_size=1000, alpha=0.3, arrows=False)\n",
    "plt.title(\"Graph 1.5\")\n",
    "plt.show()"
   ]
  },
  {
   "cell_type": "code",
   "execution_count": 20,
   "id": "6a57b44c",
   "metadata": {},
   "outputs": [],
   "source": [
    "#社区密度计算\n",
    "def solution1_5(csv_file_name):\n",
    "    # 读取 csv 文件到矩阵\n",
    "    matrix_1_5 = read_csv(file_name=csv_file_name)\n",
    "\n",
    "    # 创建图表\n",
    "    g_1_5 = nx.from_numpy_matrix(matrix_1_5)\n",
    "\n",
    "    return nx.density(g_1_5)"
   ]
  },
  {
   "cell_type": "code",
   "execution_count": 21,
   "id": "3e01fa35",
   "metadata": {},
   "outputs": [
    {
     "data": {
      "text/plain": [
       "0.5"
      ]
     },
     "execution_count": 21,
     "metadata": {},
     "output_type": "execute_result"
    }
   ],
   "source": [
    "# the answer for 1.5\n",
    "solution1_5(csv_file_name='csvs/1.5.csv')"
   ]
  },
  {
   "cell_type": "markdown",
   "id": "2b1a3157",
   "metadata": {},
   "source": [
    "1.6 Girvan-Newman 算法。计算边介数。输入为一个图的邻接矩阵（CSV 文件），输入图的节点数小于 10，返回图的初始边介数矩阵（CSV 文件）"
   ]
  },
  {
   "cell_type": "code",
   "execution_count": 22,
   "id": "180a2e68",
   "metadata": {},
   "outputs": [
    {
     "data": {
      "image/png": "[encoded data removed]",
      "text/plain": [
       "<Figure size 432x288 with 1 Axes>"
      ]
     },
     "metadata": {},
     "output_type": "display_data"
    }
   ],
   "source": [
    "# 读取 csv 文件到矩阵\n",
    "matrix_1_6 = read_csv(file_name='csvs/1.6.csv')\n",
    "\n",
    "# 创建图表\n",
    "g_1_6 = nx.from_numpy_matrix(matrix_1_6)\n",
    "\n",
    "# 制作图表\n",
    "nx.draw(g_1_6, with_labels=True, node_size=1000, alpha=0.3, arrows=False)\n",
    "plt.title(\"Graph 1.6\")\n",
    "plt.show()"
   ]
  },
  {
   "cell_type": "code",
   "execution_count": 23,
   "id": "35dbfeff",
   "metadata": {
    "scrolled": true
   },
   "outputs": [
    {
     "data": {
      "image/png": "[encoded data removed]",
      "text/plain": [
       "<Figure size 432x288 with 1 Axes>"
      ]
     },
     "metadata": {},
     "output_type": "display_data"
    }
   ],
   "source": [
    "# 在图中找到社区\n",
    "communities = girvan_newman(g_1_6)\n",
    "\n",
    "# 找到形成社区的节点\n",
    "node_groups = []\n",
    "for com in next(communities):\n",
    "    node_groups.append(list(com))\n",
    "\n",
    "# 绘制社区\n",
    "color_map = []\n",
    "for node in g_1_6:\n",
    "    if node in node_groups[0]:\n",
    "        color_map.append('blue')\n",
    "    else:\n",
    "        color_map.append('green')\n",
    "nx.draw(g_1_6, node_color=color_map, with_labels=True, node_size=1000, alpha=0.3)\n",
    "plt.title(\"Graph 1.6 - Communities\")\n",
    "plt.show()"
   ]
  },
  {
   "cell_type": "code",
   "execution_count": 24,
   "id": "2d9bd1bd",
   "metadata": {},
   "outputs": [],
   "source": [
    "def get_edge_betweenness_matrix(g, matrix):\n",
    "    ebc = nx.centrality.edge_betweenness_centrality(g, normalized=False)\n",
    "# 具有边缘中间值的点列表\n",
    "    ebc_list = sorted(ebc.items(), key=operator.itemgetter(1))\n",
    "    \n",
    "    for tps in ebc_list:\n",
    "        matrix[tps[0][0], tps[0][1]] = tps[1]\n",
    "    \n",
    "    return matrix.T"
   ]
  },
  {
   "cell_type": "code",
   "execution_count": 25,
   "id": "dedd2aa1",
   "metadata": {},
   "outputs": [],
   "source": [
    "def solution_1_6(csv_file_name, res_file_name):\n",
    "# 读取 csv 文件到矩阵\n",
    "    matrix_1_6 = read_csv(file_name=csv_file_name)\n",
    "\n",
    "# 创建图表\n",
    "    g_1_6 = nx.from_numpy_matrix(matrix_1_6)\n",
    "    \n",
    "# 创建零填充矩阵，shape 是图形形状的输入邻接矩阵\n",
    "    res_1_6_array = np.zeros((matrix_1_6.shape))\n",
    "    res_1_6_array\n",
    "    \n",
    "# 邻接矩阵\n",
    "    ebm = get_edge_betweenness_matrix(g=g_1_6, matrix=res_1_6_array)\n",
    "    print('Result matrix:\\n', ebm)\n",
    "    # save matrix to csv file\n",
    "    save_m_csv(matrix=ebm, res_file_name=res_file_name)"
   ]
  },
  {
   "cell_type": "code",
   "execution_count": 26,
   "id": "b23e8d1a",
   "metadata": {},
   "outputs": [
    {
     "name": "stdout",
     "output_type": "stream",
     "text": [
      "Result matrix:\n",
      " [[ 0.  0.  0.  0.  0.  0.  0.  0.  0.]\n",
      " [ 4.  0.  0.  0.  0.  0.  0.  0.  0.]\n",
      " [ 1.  4.  0.  0.  0.  0.  0.  0.  0.]\n",
      " [ 9.  0.  9.  0.  0.  0.  0.  0.  0.]\n",
      " [ 0.  0.  0. 10.  0.  0.  0.  0.  0.]\n",
      " [ 0.  0.  0. 10.  1.  0.  0.  0.  0.]\n",
      " [ 0.  0.  0.  0.  6.  6.  0.  0.  0.]\n",
      " [ 0.  0.  0.  0.  3.  3.  2.  0.  0.]\n",
      " [ 0.  0.  0.  0.  0.  0.  8.  0.  0.]]\n"
     ]
    }
   ],
   "source": [
    "# the answer for 1.6\n",
    "# result file saved as `1_6_res.csv`\n",
    "solution_1_6(csv_file_name='csvs/1.6.csv', res_file_name='1_6_res.csv')"
   ]
  },
  {
   "cell_type": "markdown",
   "id": "36f4d62b",
   "metadata": {},
   "source": [
    "1.7 最大化级联传播。 输入为一个图的邻接矩阵，输入图的节点数小于 10，矩阵内的值为 0，则表示两个节点间没有相连，其他值（在 0 到 1 之间）则表示通过这条边激活下一个节点的阈值。设级联传播中的激活信号永远为 0.5（阈值大于 0.5 时，节点会被激活，小于或等于 0.5 时，则不会被激活）。再设预算 K=1，即起始激活点只能选择一个，使用贪婪算法寻找图中最适合的起始激活点，返回节点的编号（int 整数）。 "
   ]
  },
  {
   "cell_type": "code",
   "execution_count": 27,
   "id": "34be47f9",
   "metadata": {},
   "outputs": [
    {
     "data": {
      "text/plain": [
       "array([[0. , 0. , 0. , 0. , 0.4, 0.6],\n",
       "       [0. , 0. , 0.2, 0. , 0. , 0. ],\n",
       "       [0. , 0.2, 0. , 0.1, 0. , 0.3],\n",
       "       [0. , 0.8, 0. , 0. , 0. , 0. ],\n",
       "       [0.4, 0.1, 0. , 0.4, 0. , 0. ],\n",
       "       [0.6, 0. , 0. , 0.7, 0.3, 0. ]])"
      ]
     },
     "execution_count": 27,
     "metadata": {},
     "output_type": "execute_result"
    }
   ],
   "source": [
    "# 读取 csv 文件到矩阵\n",
    "matrix_1_7 = read_csv(file_name='csvs/1.7.csv')\n",
    "matrix_1_7"
   ]
  },
  {
   "cell_type": "code",
   "execution_count": 28,
   "id": "0f328b87",
   "metadata": {},
   "outputs": [
    {
     "data": {
      "image/png": "[encoded data removed]",
      "text/plain": [
       "<Figure size 432x288 with 1 Axes>"
      ]
     },
     "metadata": {},
     "output_type": "display_data"
    }
   ],
   "source": [
    "# 创建图表\n",
    "g_1_7 = nx.from_numpy_matrix(matrix_1_7, create_using=nx.DiGraph)\n",
    "layout = nx.spring_layout(g_1_7)\n",
    "\n",
    "# 制作图表\n",
    "nx.draw(g_1_7, layout, with_labels=True, node_size=1000, alpha=0.5)\n",
    "labels = nx.get_edge_attributes(g_1_7, \"weight\")\n",
    "nx.draw_networkx_edge_labels(g_1_7, pos=layout, edge_labels=labels)\n",
    "plt.title(\"Graph 1.7\")\n",
    "plt.show()"
   ]
  },
  {
   "cell_type": "code",
   "execution_count": 29,
   "id": "2110f45b",
   "metadata": {},
   "outputs": [],
   "source": [
    "# activation函数\n",
    "def activation(node, matrix):\n",
    "    actives = [node]\n",
    "    q = Queue()\n",
    "    q.put(node)\n",
    "    \n",
    "    while not q.empty():\n",
    "        n = q.get()\n",
    "        for i in range(len(matrix)):\n",
    "            if matrix[n][i] >= .5 and actives.count(i) == 0.:\n",
    "                q.put(i)\n",
    "                actives.append(i)\n",
    "                \n",
    "    return actives"
   ]
  },
  {
   "cell_type": "code",
   "execution_count": 30,
   "id": "e20138a2",
   "metadata": {},
   "outputs": [
    {
     "name": "stdout",
     "output_type": "stream",
     "text": [
      "0: [0, 5, 3, 1]\n",
      "1: [1]\n",
      "2: [2]\n",
      "3: [3, 1]\n",
      "4: [4]\n",
      "5: [5, 0, 3, 1]\n"
     ]
    }
   ],
   "source": [
    "for i in range(len(matrix_1_7)):\n",
    "    actives = activation(node=i, matrix=matrix_1_7)\n",
    "    print(f'{i}: {actives}')"
   ]
  },
  {
   "cell_type": "code",
   "execution_count": 31,
   "id": "d8d12b98",
   "metadata": {},
   "outputs": [
    {
     "name": "stdout",
     "output_type": "stream",
     "text": [
      "5\n"
     ]
    }
   ],
   "source": [
    "# the answer for 1.7\n",
    "res = []\n",
    "for i in range(len(matrix_1_7)):\n",
    "    res.append(activation(node=i, matrix=matrix_1_7))\n",
    "\n",
    "print(max(max(res, key=len, default='')))"
   ]
  },
  {
   "cell_type": "markdown",
   "id": "844994e0",
   "metadata": {},
   "source": [
    "1.8   SIS 模型。输入两个整数，S0 和 I0，并输入两个小数,β 和 γ，(0<=S0<=99，1<=I0<=100，S0+I0=100，0<β<γ，并 0<γ<1), 输出 S，I 关于 t 的图像."
   ]
  },
  {
   "cell_type": "code",
   "execution_count": 32,
   "id": "635692b0",
   "metadata": {},
   "outputs": [],
   "source": [
    "def solution_1_8(ini_value, _):\n",
    "    y = np.zeros(2)\n",
    "    x = ini_value\n",
    "    \n",
    "    # 易感个体的变化\n",
    "    y[0] = - (beta * x[0]) * x[1] + gamma * x[1]\n",
    "    \n",
    "    # 感染的个体变化\n",
    "    y[1] = (beta * x[0] * x[1]) - gamma * x[1]\n",
    "    return y"
   ]
  },
  {
   "cell_type": "code",
   "execution_count": 33,
   "id": "3d136cbc",
   "metadata": {},
   "outputs": [
    {
     "data": {
      "image/png": "[encoded data removed]",
      "text/plain": [
       "<Figure size 432x288 with 1 Axes>"
      ]
     },
     "metadata": {
      "needs_background": "light"
     },
     "output_type": "display_data"
    }
   ],
   "source": [
    "beta, gamma = 0.01, 0.1\n",
    "I_0, S_0, T = 1, 99, 50\n",
    "\n",
    "res = spi.odeint(func=solution_1_8, y0=(S_0, I_0), t=np.arange(0, T + 1))\n",
    "\n",
    "# plot the SIS model\n",
    "plt.plot(res[:, 0], color='blue', label='S(t)', marker='.')\n",
    "plt.plot(res[:, 1], color='red', label='I(t)')\n",
    "plt.title('SIS Model')\n",
    "plt.legend()\n",
    "plt.xlabel('t')\n",
    "plt.ylabel('Number')\n",
    "plt.show()"
   ]
  },
  {
   "cell_type": "markdown",
   "id": "ef82c113",
   "metadata": {},
   "source": [
    "1.9   基于内容的推荐。 输入两个维数小于 10 的向量（CSV 文件），计算两者的余弦相似性（float 浮点数）。"
   ]
  },
  {
   "cell_type": "code",
   "execution_count": 34,
   "id": "21484e8b",
   "metadata": {},
   "outputs": [
    {
     "data": {
      "text/plain": [
       "array([[3, 0, 3, 3, 1],\n",
       "       [5, 4, 0, 2, 2]])"
      ]
     },
     "execution_count": 34,
     "metadata": {},
     "output_type": "execute_result"
    }
   ],
   "source": [
    "# 读取 csv 文件到矩阵\n",
    "df = pd.read_csv('csvs/1.9.csv', header=None).drop([0],axis=1)\n",
    "np.array(df)"
   ]
  },
  {
   "cell_type": "code",
   "execution_count": 35,
   "id": "948acd3f",
   "metadata": {},
   "outputs": [],
   "source": [
    "def solution_1_9(csv_file):\n",
    "    df = np.array(pd.read_csv(csv_file, header=None).drop([0],axis=1))\n",
    "    a, b = df[0], df[1]\n",
    "    cos_sim = dot(a, b)/(norm(a)*norm(b))\n",
    "    return cos_sim"
   ]
  },
  {
   "cell_type": "code",
   "execution_count": 36,
   "id": "738b5d7e",
   "metadata": {},
   "outputs": [
    {
     "data": {
      "text/plain": [
       "0.6209416342294447"
      ]
     },
     "execution_count": 36,
     "metadata": {},
     "output_type": "execute_result"
    }
   ],
   "source": [
    "# the answer for 1.9\n",
    "solution_1_9('csvs/1.9.csv')"
   ]
  },
  {
   "cell_type": "markdown",
   "id": "79e501d0",
   "metadata": {},
   "source": [
    "1.10 基于项目的协同过滤。 输入一个 4*4 的用户评分矩阵，评分的数值范围是 1 到 5，其中只有一个未知项目用 9 表示。101010大小 k=1，请使用余弦相似度与基于项目的协同过滤算预测数值 9 所代表的评分值（float 浮点数）。"
   ]
  },
  {
   "cell_type": "code",
   "execution_count": 37,
   "id": "4648d2f4",
   "metadata": {},
   "outputs": [
    {
     "data": {
      "text/html": [
       "<div>\n",
       "<style scoped>\n",
       "    .dataframe tbody tr th:only-of-type {\n",
       "        vertical-align: middle;\n",
       "    }\n",
       "\n",
       "    .dataframe tbody tr th {\n",
       "        vertical-align: top;\n",
       "    }\n",
       "\n",
       "    .dataframe thead th {\n",
       "        text-align: right;\n",
       "    }\n",
       "</style>\n",
       "<table border=\"1\" class=\"dataframe\">\n",
       "  <thead>\n",
       "    <tr style=\"text-align: right;\">\n",
       "      <th></th>\n",
       "      <th>Lion King</th>\n",
       "      <th>Aladdin</th>\n",
       "      <th>Mulan</th>\n",
       "      <th>Anastasia</th>\n",
       "    </tr>\n",
       "  </thead>\n",
       "  <tbody>\n",
       "    <tr>\n",
       "      <th>John</th>\n",
       "      <td>3</td>\n",
       "      <td>0</td>\n",
       "      <td>3</td>\n",
       "      <td>3</td>\n",
       "    </tr>\n",
       "    <tr>\n",
       "      <th>Joe</th>\n",
       "      <td>5</td>\n",
       "      <td>4</td>\n",
       "      <td>0</td>\n",
       "      <td>2</td>\n",
       "    </tr>\n",
       "    <tr>\n",
       "      <th>Jill</th>\n",
       "      <td>1</td>\n",
       "      <td>2</td>\n",
       "      <td>4</td>\n",
       "      <td>2</td>\n",
       "    </tr>\n",
       "    <tr>\n",
       "      <th>Jane</th>\n",
       "      <td>3</td>\n",
       "      <td>9</td>\n",
       "      <td>1</td>\n",
       "      <td>0</td>\n",
       "    </tr>\n",
       "    <tr>\n",
       "      <th>Jorge</th>\n",
       "      <td>2</td>\n",
       "      <td>2</td>\n",
       "      <td>0</td>\n",
       "      <td>1</td>\n",
       "    </tr>\n",
       "  </tbody>\n",
       "</table>\n",
       "</div>"
      ],
      "text/plain": [
       "       Lion King  Aladdin  Mulan  Anastasia\n",
       "John           3        0      3          3\n",
       "Joe            5        4      0          2\n",
       "Jill           1        2      4          2\n",
       "Jane           3        9      1          0\n",
       "Jorge          2        2      0          1"
      ]
     },
     "execution_count": 37,
     "metadata": {},
     "output_type": "execute_result"
    }
   ],
   "source": [
    "df1_10 = pd.read_csv('csvs/1.10.csv', index_col=[0])\n",
    "df1_10"
   ]
  },
  {
   "cell_type": "code",
   "execution_count": 38,
   "id": "ee6d3f19",
   "metadata": {},
   "outputs": [
    {
     "data": {
      "text/plain": [
       "array([[3, 0, 3, 3],\n",
       "       [5, 4, 0, 2],\n",
       "       [1, 2, 4, 2],\n",
       "       [3, 9, 1, 0],\n",
       "       [2, 2, 0, 1]])"
      ]
     },
     "execution_count": 38,
     "metadata": {},
     "output_type": "execute_result"
    }
   ],
   "source": [
    "matrix_1_10 = read_csv(file_name='csvs/1.10.csv')\n",
    "matrix_1_10"
   ]
  },
  {
   "cell_type": "code",
   "execution_count": 39,
   "id": "73861964",
   "metadata": {},
   "outputs": [],
   "source": [
    "# 项目平均评分\n",
    "def get_item_rating_avg(matrix):\n",
    "    # aladdin_rating_avg, lion_king_rating_avg\n",
    "    return (sum(matrix[:, 1]) - 9)/4,(sum(matrix_1_10[:, 0]))/5"
   ]
  },
  {
   "cell_type": "code",
   "execution_count": 40,
   "id": "eea83e62",
   "metadata": {},
   "outputs": [
    {
     "data": {
      "text/plain": [
       "array([[3, 0, 3, 3],\n",
       "       [5, 4, 0, 2],\n",
       "       [1, 2, 4, 2],\n",
       "       [2, 2, 0, 1]])"
      ]
     },
     "execution_count": 40,
     "metadata": {},
     "output_type": "execute_result"
    }
   ],
   "source": [
    "new_matrix = np.delete(matrix_1_10, 3, axis=0)\n",
    "new_matrix"
   ]
  },
  {
   "cell_type": "code",
   "execution_count": 41,
   "id": "faa6f8f6",
   "metadata": {},
   "outputs": [],
   "source": [
    "# k = 1\n",
    "# 获取ok项目相似度\n",
    "def get_ok_item_sim(matrix):\n",
    "    sim_aladdin_lion_king = sum(matrix[:, 1] * matrix[:, 0]) / ((np.sqrt(\n",
    "        (sum(matrix[:, 1] ** 2))) * (np.sqrt(sum(matrix[:, 0] ** 2)))))\n",
    "\n",
    "    sim_aladdin_mulan = sum(matrix[:, 1] * new_matrix[:, 2]) / ((np.sqrt(\n",
    "        (sum(matrix[:, 1] ** 2))) * (np.sqrt(sum(matrix[:, 2] ** 2)))))\n",
    "\n",
    "    sim_aladdin_anastasia = sum(new_matrix[:, 1] * matrix[:, 3]) / ((np.sqrt(\n",
    "        (sum(matrix[:, 1] ** 2))) * (np.sqrt(sum(matrix[:, 3] ** 2)))))\n",
    "\n",
    "    return max(sim_aladdin_lion_king, sim_aladdin_mulan, sim_aladdin_anastasia)"
   ]
  },
  {
   "cell_type": "code",
   "execution_count": 42,
   "id": "c1cf409f",
   "metadata": {},
   "outputs": [
    {
     "data": {
      "text/plain": [
       "2.2"
      ]
     },
     "execution_count": 42,
     "metadata": {},
     "output_type": "execute_result"
    }
   ],
   "source": [
    "# the answer for 1.10\n",
    "ok_item_sim = get_ok_item_sim(new_matrix)\n",
    "ok_rating_avg, item_rating_avg = get_item_rating_avg(matrix_1_10)\n",
    "\n",
    "a = (ok_item_sim *\n",
    "     (matrix_1_10[0][3] - item_rating_avg)) / ok_item_sim\n",
    "\n",
    "pred_jane_aladdin = ok_rating_avg + a\n",
    "pred_jane_aladdin"
   ]
  },
  {
   "cell_type": "code",
   "execution_count": null,
   "id": "23b061fb",
   "metadata": {},
   "outputs": [],
   "source": []
  },
  {
   "cell_type": "code",
   "execution_count": null,
   "id": "3fbea6ef",
   "metadata": {},
   "outputs": [],
   "source": []
  },
  {
   "cell_type": "code",
   "execution_count": null,
   "id": "a62527b7",
   "metadata": {},
   "outputs": [],
   "source": []
  },
  {
   "cell_type": "code",
   "execution_count": null,
   "id": "f6ea1127",
   "metadata": {},
   "outputs": [],
   "source": []
  }
 ],
 "metadata": {
  "kernelspec": {
   "display_name": "Python 3 (ipykernel)",
   "language": "python",
   "name": "python3"
  },
  "language_info": {
   "codemirror_mode": {
    "name": "ipython",
    "version": 3
   },
   "file_extension": ".py",
   "mimetype": "text/x-python",
   "name": "python",
   "nbconvert_exporter": "python",
   "pygments_lexer": "ipython3",
   "version": "3.9.7"
  }
 },
 "nbformat": 4,
 "nbformat_minor": 5
}
